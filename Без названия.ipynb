{
 "cells": [
  {
   "cell_type": "code",
   "execution_count": 2,
   "id": "ca3bfc87",
   "metadata": {
    "ExecuteTime": {
     "end_time": "2023-05-12T13:26:21.443985416Z",
     "start_time": "2023-05-12T13:26:21.278046133Z"
    }
   },
   "outputs": [
    {
     "ename": "ModuleNotFoundError",
     "evalue": "No module named 'pyvis'",
     "output_type": "error",
     "traceback": [
      "\u001b[0;31m---------------------------------------------------------------------------\u001b[0m",
      "\u001b[0;31mModuleNotFoundError\u001b[0m                       Traceback (most recent call last)",
      "Cell \u001b[0;32mIn [2], line 1\u001b[0m\n\u001b[0;32m----> 1\u001b[0m \u001b[38;5;28;01mfrom\u001b[39;00m \u001b[38;5;21;01mpyvis\u001b[39;00m\u001b[38;5;21;01m.\u001b[39;00m\u001b[38;5;21;01mnetwork\u001b[39;00m \u001b[38;5;28;01mimport\u001b[39;00m Network\n",
      "\u001b[0;31mModuleNotFoundError\u001b[0m: No module named 'pyvis'"
     ]
    }
   ],
   "source": [
    "from pyvis.network import Network"
   ]
  },
  {
   "cell_type": "code",
   "execution_count": 3,
   "id": "07119ae0",
   "metadata": {
    "ExecuteTime": {
     "end_time": "2023-05-12T13:26:21.561169941Z",
     "start_time": "2023-05-12T13:26:21.448684675Z"
    }
   },
   "outputs": [
    {
     "name": "stdout",
     "output_type": "stream",
     "text": [
      "/home/alegzandrr/PycharmProjects/BottleWebProject_C022_1_ВОГ/venv/bin/python\r\n"
     ]
    }
   ],
   "source": [
    "!which python"
   ]
  },
  {
   "cell_type": "code",
   "execution_count": 3,
   "id": "c6688cff",
   "metadata": {
    "ExecuteTime": {
     "end_time": "2023-05-12T13:26:45.459828089Z",
     "start_time": "2023-05-12T13:26:45.409549239Z"
    }
   },
   "outputs": [
    {
     "name": "stdout",
     "output_type": "stream",
     "text": [
      "Warning: When  cdn_resources is 'local' jupyter notebook has issues displaying graphics on chrome/safari. Use cdn_resources='in_line' or cdn_resources='remote' if you have issues viewing graphics in a notebook.\n",
      "color_cities.html\n"
     ]
    },
    {
     "data": {
      "text/html": [
       "\n",
       "        <iframe\n",
       "            width=\"100%\"\n",
       "            height=\"600px\"\n",
       "            src=\"color_cities.html\"\n",
       "            frameborder=\"0\"\n",
       "            allowfullscreen\n",
       "            \n",
       "        ></iframe>\n",
       "        "
      ],
      "text/plain": [
       "<IPython.lib.display.IFrame at 0x7f4f74c4f190>"
      ]
     },
     "execution_count": 3,
     "metadata": {},
     "output_type": "execute_result"
    }
   ],
   "source": [
    "network = Network(notebook=True)\n",
    "nodes = [1, 2, 3, 4, 5, 6, 7, 8 ,9 ,10]\n",
    "labels = ['Россия', 'обл Свердловская', 'Подразделение - обл Свердловская',\n",
    "          'Подразделение 1 - обл Свердловская', 'Подразделение 2 - обл Свердловская',\n",
    "          'Категория - обл Свердловская', 'Кат. - A - обл Свердловская',\n",
    "          'Кат. - B - обл Свердловская', 'Кат. - C - обл Свердловская',\n",
    "          'Кат. - D - обл Свердловская']\n",
    "titles = ['Россия'] + ['']*9\n",
    "colors = ['#FF0000', '#00FF00'] + ['#B0E0E6']*8\n",
    "\n",
    "network.add_nodes(nodes=nodes, label=labels, title = titles, color=colors)\n",
    "network.show('color_cities.html')"
   ]
  },
  {
   "cell_type": "code",
   "execution_count": null,
   "id": "5006131d",
   "metadata": {},
   "outputs": [],
   "source": []
  }
 ],
 "metadata": {
  "kernelspec": {
   "display_name": "Python 3 (ipykernel)",
   "language": "python",
   "name": "python3"
  },
  "language_info": {
   "codemirror_mode": {
    "name": "ipython",
    "version": 3
   },
   "file_extension": ".py",
   "mimetype": "text/x-python",
   "name": "python",
   "nbconvert_exporter": "python",
   "pygments_lexer": "ipython3",
   "version": "3.10.10"
  }
 },
 "nbformat": 4,
 "nbformat_minor": 5
}
